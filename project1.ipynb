{
 "cells": [
  {
   "cell_type": "markdown",
   "metadata": {},
   "source": [
    "# What Factors Affect the Ability of a team to win across games"
   ]
  },
  {
   "cell_type": "code",
   "execution_count": null,
   "metadata": {},
   "outputs": [],
   "source": [
    "import pandas as pd\n",
    "from matplotlib import pyplot as plt\n",
    "# Make sure you have seaborn version 0.9.\n",
    "import seaborn as sns\n",
    "from scipy.stats import ttest_ind"
   ]
  },
  {
   "cell_type": "markdown",
   "metadata": {},
   "source": [
    "## Max - Average Number of Walks vs. Games Won"
   ]
  },
  {
   "cell_type": "code",
   "execution_count": null,
   "metadata": {},
   "outputs": [],
   "source": [
    "teams = pd.read_csv('./data/core/Teams.csv')\n",
    "teams.columns\n",
    "display(teams)\n",
    "walkteams = teams[['BB', 'G', 'W', 'yearID', 'teamID']] \n",
    "display(walkteams)\n",
    "walkteams = walkteams.dropna()\n",
    "display(walkteams[walkteams.isna().any(axis=1)])\n",
    "walkteams['balls/game'] = walkteams.BB/walkteams.G\n",
    "walkteams['winPercent'] = walkteams.W/walkteams.G"
   ]
  },
  {
   "cell_type": "markdown",
   "metadata": {},
   "source": [
    "## NUMBER OF SHUTOUTS FOR WORLD SERIES WINNERS BY YEAR VS AVERAGE SHUTOUT RATE"
   ]
  },
  {
   "cell_type": "code",
   "execution_count": null,
   "metadata": {},
   "outputs": [],
   "source": [
    "winners = teams[teams.WSWin == 'Y']\n",
    "display(winners)\n",
    "sns.lineplot(data=winners, x=\"yearID\", y=\"SHO\", label=\"World Series Winners\")\n",
    "\n",
    "shutoutsByYear = teams.groupby('yearID').agg({'SHO': 'mean'})\n",
    "sns.lineplot(data=shutoutsByYear, x=\"yearID\", y=\"SHO\", label=\"Average For All Teams\")\n",
    "plt.title('Shutouts For World Series Winners vs. League Average per Year')\n",
    "plt.xlabel('Year')\n",
    "plt.ylabel('Shutouts')\n",
    "plt.show()"
   ]
  },
  {
   "cell_type": "markdown",
   "metadata": {},
   "source": [
    "There appears to be no strong correlation between the number of shutouts that a team performs and their ability to win. This is likely because you can still win a game even if it isn't a shutout. However, it seems that it is rare for a teeam with few shutouts to win the world series. It also seems to me that the years between 1900 and 1920 generally had more shutouts if they won the world series. This would make it seem like the skill gap between the best and worst teams has been getting smaller, especially with how many more games teams play now than they used to."
   ]
  },
  {
   "cell_type": "code",
   "execution_count": null,
   "metadata": {},
   "outputs": [],
   "source": [
    "sns.scatterplot(x='balls/game', y='winPercent', data=walkteams, s=8)"
   ]
  },
  {
   "cell_type": "markdown",
   "metadata": {},
   "source": [
    "## Max - Percentage of Successful Base Steal vs Percentage of Game Wins"
   ]
  },
  {
   "cell_type": "code",
   "execution_count": null,
   "metadata": {},
   "outputs": [],
   "source": [
    "teams = pd.read_csv('./data/core/Teams.csv')\n",
    "teams.columns\n",
    "\n",
    "stealTeams = teams[['CS', 'SB', 'G', 'W', 'yearID', 'teamID']]\n",
    "stealTeams = stealTeams[stealTeams.yearID > 1960] \n",
    "stealTeams = stealTeams.dropna()\n",
    "stealTeams['stealAttempts'] = stealTeams.SB + stealTeams.CS\n",
    "stealTeams['successfulStealAttemptsPercent'] = stealTeams.SB/stealTeams.stealAttempts\n",
    "stealTeams['winPercent'] = stealTeams.W/stealTeams.G"
   ]
  },
  {
   "cell_type": "code",
   "execution_count": null,
   "metadata": {},
   "outputs": [],
   "source": [
    "sns.lmplot(x='successfulStealAttemptsPercent', y='winPercent', data=stealTeams.sample(frac=.3))\n",
    "plt.title('Percentage of Successfully Stolen Bases vs. Win Percentage')\n",
    "plt.xlabel('% Successful Steal Attempts')\n",
    "plt.ylabel('% Games Won')"
   ]
  },
  {
   "cell_type": "markdown",
   "metadata": {},
   "source": [
    "# Home Games versus Win Rate\n",
    "\n",
    "Does the number of Home Games a team has in a season play a significant influence on their win rate for that season?"
   ]
  },
  {
   "cell_type": "code",
   "execution_count": null,
   "metadata": {},
   "outputs": [],
   "source": [
    "teams = pd.read_csv('./data/core/Teams.csv')\n",
    "\n",
    "gameData = teams[['W','L','Ghome','G']]\n",
    "gameData = gameData.dropna()\n",
    "# Create Win Rate Column\n",
    "gameData['WR'] = gameData.W / gameData.G\n",
    "gameData['homePercent'] = gameData.Ghome / gameData.G\n",
    "\n",
    "# Teams with a home game % of > 51\n",
    "mostHome = gameData[gameData.homePercent > 0.51]\n",
    "sns.displot(data=mostHome, x='WR')\n",
    "plt.title(\"Win Rates for Teams with >51% of games at home\")\n",
    "plt.figure()\n",
    "\n",
    "display(f\"Mean WR for mostly home teams: {mostHome.WR.mean()}\")\n",
    "display(f\"Median WR for mostly home teams: {mostHome.WR.median()}\")\n",
    "\n",
    "\n",
    "# Teams with a home game % of < 49\n",
    "mostAway = gameData[gameData.homePercent < 0.49]\n",
    "sns.displot(data=mostAway, x='WR')\n",
    "plt.title(\"Win Rates for Teams with <49% of games at home\")\n",
    "plt.figure()\n",
    "\n",
    "display(f\"Mean WR for mostly away teams: {mostAway.WR.mean()}\")\n",
    "display(f\"Median WR for mostly away teams: {mostAway.WR.median()}\")\n",
    "\n",
    "display(ttest_ind(mostHome.WR, mostAway.WR))"
   ]
  },
  {
   "cell_type": "markdown",
   "metadata": {},
   "source": [
    "The figures above show that teams which play more games at home tend to have a significantly better win rate, with an average win rate of 50.8% and a median win rate of 51.5%, where the teams which play more games away have an average win rate of 46.5% and a median win rate of 46.0%. Conducting a t-test yields a p-value of $6.3*10^{-5}$, meaning that the difference in these two distributions is statistically significant."
   ]
  },
  {
   "cell_type": "markdown",
   "metadata": {},
   "source": [
    "# Win Rate versus Rank for AL and NL\n",
    "\n",
    "There are two leagues, the National League (NL) and the American League (AL). Within those two leagues are the Eastern (E), Central (C), and Western (W) divisions. Rankings are within each division within each league. Plotting the average win rate for each rank for each division, we can determine whether the best team in each division is always ranked the highest. We can also use these plots to compare the National and American leagues."
   ]
  },
  {
   "cell_type": "code",
   "execution_count": null,
   "metadata": {},
   "outputs": [],
   "source": [
    "# Code to split teams df into divisions and leagues\n",
    "teams = pd.read_csv('./data/core/Teams.csv')\n",
    "teams.dropna()\n",
    "teams['WR'] = teams.W / teams.G\n",
    "\n",
    "americanLeague = teams[teams.lgID == \"AL\"]\n",
    "nationalLeague = teams[teams.lgID == \"NL\"]\n",
    "\n",
    "# Eastern American League, Rank 1 -- Checking if data is more suitable for mean or median\n",
    "eaLeague = americanLeague[(americanLeague.Rank == 1)]\n",
    "sns.displot(data=eaLeague, x='WR',hue='divID')\n",
    "plt.title(\"Win Rates for American League Rank 1 Teams\")\n",
    "\n",
    "# For each league, compute the average win rate for each rank in each division\n",
    "# aggregation = 'mean'\n",
    "aggregation = 'median'\n",
    "for league in [americanLeague, nationalLeague]:\n",
    "    east = league[league.divID == 'E'].groupby('Rank').agg({'WR': aggregation,'divID': 'max'}).reset_index()\n",
    "    central = league[league.divID == 'C'].groupby('Rank').agg({'WR': aggregation, 'divID': 'max'}).reset_index()\n",
    "    west = league[league.divID == 'W'].groupby('Rank').agg({'WR': aggregation, 'divID': 'max'}).reset_index()\n",
    "    averages = pd.concat([east, central, west])\n",
    "    title  = \"American League\" if league is americanLeague else \"National League\"\n",
    "    p = sns.catplot(data=averages, x='Rank', y='WR', hue='divID', kind='bar', alpha=0.8)\n",
    "    plt.title(title + \" Average WR vs. Rank\")\n",
    "    p.set_axis_labels(\"Rank\", \"Average Win Rate\")\n",
    "    "
   ]
  },
  {
   "cell_type": "markdown",
   "metadata": {},
   "source": [
    "For all leagues in both divisions, a better ranking corresponds to a better win rate. However, the American league has a wider range of average win rates between each rank when compared to the National League. Specifically, Eastern teams have a much better average win rate than Western teams, who have better win rates than Central teams. This chasm between average win rates in the American league can be dramatic. For example, the average win rate of teams ranked 6th in the Eastern division is greater than the average win rate of teams ranked 4th in the Central division.  \n",
    "\n",
    "In contrast, the divisions in the National League have average win rates that are much closer together for each rank. While the Central divison still has the lowest average win rates, the difference is less dramatic. For this reason, we believe that the National League is a more competitive league than the American League. We also believe that in general, Eastern teams have the best chance of winning a game, followed by Western teams, with teams from the Central division having the lowest chance of winning their games.\n",
    "\n",
    "The same result is found when the median win rate is used instead of the average win rate."
   ]
  }
 ],
 "metadata": {
  "kernelspec": {
   "display_name": "Python 3",
   "language": "python",
   "name": "python3"
  },
  "language_info": {
   "codemirror_mode": {
    "name": "ipython",
    "version": 3
   },
   "file_extension": ".py",
   "mimetype": "text/x-python",
   "name": "python",
   "nbconvert_exporter": "python",
   "pygments_lexer": "ipython3",
   "version": "3.11.0"
  }
 },
 "nbformat": 4,
 "nbformat_minor": 2
}
