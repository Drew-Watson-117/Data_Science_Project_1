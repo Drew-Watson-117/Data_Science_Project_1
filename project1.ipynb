{
 "cells": [
  {
   "cell_type": "markdown",
   "metadata": {},
   "source": [
    "# What Factors Affect the Ability of a team to win across games"
   ]
  },
  {
   "cell_type": "code",
   "execution_count": null,
   "metadata": {},
   "outputs": [],
   "source": [
    "import pandas as pd\n",
    "from matplotlib import pyplot as plt\n",
    "# Make sure you have seaborn version 0.9.\n",
    "import seaborn as sns\n",
    "from scipy.stats import ttest_ind"
   ]
  },
  {
   "cell_type": "markdown",
   "metadata": {},
   "source": [
    "## Part 1 -- Number of Shutouts by World Series Winner vs. Average Number of Shutouts by Year\n",
    "\n",
    "Are shutouts a good measure of whether a team may win the World Series? To test this, we will compare the number of shutouts the World Series winner to the average number of shutouts for the year. If the World Series winner has a consistently higher number of shutouts than average, then the number of shutouts a team gets in a season is a good measure of whether they might win the World Series. Otherwise, shutouts will be a bad measure of whether a team might win the World Series."
   ]
  },
  {
   "cell_type": "code",
   "execution_count": null,
   "metadata": {},
   "outputs": [],
   "source": [
    "teams = pd.read_csv(\"./data/core/Teams.csv\")\n",
    "winners = teams[teams.WSWin == 'Y']\n",
    "sns.lineplot(data=winners, x=\"yearID\", y=\"SHO\", label=\"World Series Winners\")\n",
    "\n",
    "shutoutsByYear = teams.groupby('yearID').agg({'SHO': 'mean'})\n",
    "sns.lineplot(data=shutoutsByYear, x=\"yearID\", y=\"SHO\", label=\"Average For All Teams\")\n",
    "plt.title('Shutouts For World Series Winners vs. League Average per Year')\n",
    "plt.xlabel('Year')\n",
    "plt.ylabel('Shutouts')\n",
    "plt.show()"
   ]
  },
  {
   "cell_type": "markdown",
   "metadata": {},
   "source": [
    "The diagram produced by the code above shows that the number of shutouts the World Series winner has in a season is typically significantly greater than the average number of shutouts a team gets in a season. It should be noted that this correlation does not necessarily mean that a team who has a lot of shutouts will win the World Series, it just implies that a common feature of World Series winners is having a number of shutouts which is significantly higher than average."
   ]
  },
  {
   "cell_type": "markdown",
   "metadata": {},
   "source": [
    "## Part 2 --Stealing Bases vs Win Rate\n",
    "\n",
    "In baseball, stealing bases is sometimes considered \"just showing off\", and is not considered very meaningful for increasing your chances of winning the game. Is this true? To find out, we will compare the success rate of a team at stealing bases against that team's win rate. If there is a sufficient positive correlation between successful base steals and a team's win rate, then it may be advantageous to steal bases IF your team is good at stealing bases (have a high success rate). We will also compare each team's total number of base stealing attempts to their win rate to determine whether or not trying to steal more bases is a good strategy in general. "
   ]
  },
  {
   "cell_type": "code",
   "execution_count": null,
   "metadata": {},
   "outputs": [],
   "source": [
    "teams = pd.read_csv('./data/core/Teams.csv')\n",
    "teams.columns\n",
    "\n",
    "stealTeams = teams[['CS', 'SB', 'G', 'W', 'yearID', 'teamID']]\n",
    "stealTeams = stealTeams[stealTeams.yearID > 1960] \n",
    "stealTeams = stealTeams.dropna()\n",
    "stealTeams['stealAttempts'] = stealTeams.SB + stealTeams.CS\n",
    "stealTeams['successfulStealAttemptsPercent'] = stealTeams.SB/stealTeams.stealAttempts\n",
    "stealTeams['winPercent'] = stealTeams.W/stealTeams.G"
   ]
  },
  {
   "cell_type": "code",
   "execution_count": null,
   "metadata": {},
   "outputs": [],
   "source": [
    "sns.lmplot(x='successfulStealAttemptsPercent', y='winPercent', data=stealTeams.sample(frac=.3))\n",
    "plt.title('Percentage of Successfully Stolen Bases vs. Win Rate')\n",
    "plt.xlabel('% Successful Steal Attempts')\n",
    "plt.ylabel('Win Rate (%)')\n",
    "plt.figure()\n",
    "sns.lmplot(x='stealAttempts', y='winPercent', data=stealTeams.sample(frac=.3))\n",
    "plt.title('Steal Attempts vs. Win Rate')\n",
    "plt.xlabel('Steal Attempts')\n",
    "plt.ylabel('Win Rate (%)')"
   ]
  },
  {
   "cell_type": "markdown",
   "metadata": {},
   "source": [
    "The figure \"Percentage of Successfully Stolen Bases vs. Win Rate\" above shows that there is a slight positive correlation between successful steals and win rate. This means that if your baseball team has a high success rate when it comes to stealing, then stealing more bases may result in a higher win rate. The figure \"Steal Attempts vs. Win Rate\" shows that there is not necessarily a positive correlation between steal attempts and win rate. This means that in general trying to steal more bases will not result in a higher win rate, so it is not a good general strategy. However, if you are confident that your team has a high success rate, then it may be a good strategy."
   ]
  },
  {
   "cell_type": "markdown",
   "metadata": {},
   "source": [
    "# Part 3 -- Home Games versus Win Rate\n",
    "\n",
    "Does the number of Home Games a team has in a season play a significant influence on their win rate for that season? We will test this by plotting two histograms, one for the win rate of teams who played $>51\\%$ of their games at home, and another for the win rate of teams who played $<49\\%$ of their games at home. If these two distributions are different, there is a significant chance that the number of games played at home influences the win rate of a team."
   ]
  },
  {
   "cell_type": "code",
   "execution_count": null,
   "metadata": {},
   "outputs": [],
   "source": [
    "teams = pd.read_csv('./data/core/Teams.csv')\n",
    "\n",
    "gameData = teams[['W','L','Ghome','G']]\n",
    "gameData = gameData.dropna()\n",
    "# Create Win Rate Column\n",
    "gameData['WR'] = gameData.W / gameData.G\n",
    "gameData['homePercent'] = gameData.Ghome / gameData.G\n",
    "\n",
    "# Teams with a home game % of > 51\n",
    "mostHome = gameData[gameData.homePercent > 0.51]\n",
    "sns.displot(data=mostHome, x='WR')\n",
    "plt.title(\"Win Rates for Teams with >51% of games at home\")\n",
    "plt.figure()\n",
    "\n",
    "display(f\"Mean WR for mostly home teams: {mostHome.WR.mean()}\")\n",
    "display(f\"Median WR for mostly home teams: {mostHome.WR.median()}\")\n",
    "\n",
    "\n",
    "# Teams with a home game % of < 49\n",
    "mostAway = gameData[gameData.homePercent < 0.49]\n",
    "sns.displot(data=mostAway, x='WR')\n",
    "plt.title(\"Win Rates for Teams with <49% of games at home\")\n",
    "plt.figure()\n",
    "\n",
    "display(f\"Mean WR for mostly away teams: {mostAway.WR.mean()}\")\n",
    "display(f\"Median WR for mostly away teams: {mostAway.WR.median()}\")\n",
    "\n",
    "display(ttest_ind(mostHome.WR, mostAway.WR))"
   ]
  },
  {
   "cell_type": "markdown",
   "metadata": {},
   "source": [
    "The figures above show that teams which play more games at home tend to have a significantly better win rate, with an average win rate of 50.8% and a median win rate of 51.5%, where the teams which play more games away have an average win rate of 46.5% and a median win rate of 46.0%. Conducting a t-test yields a p-value of $6.3*10^{-5}$, meaning that the difference in these two distributions is statistically significant."
   ]
  },
  {
   "cell_type": "markdown",
   "metadata": {},
   "source": [
    "# Part 4 -- Win Rate versus Rank for AL and NL\n",
    "\n",
    "There are two leagues, the National League (NL) and the American League (AL). Within those two leagues are the Eastern (E), Central (C), and Western (W) divisions. Rankings are within each division within each league. Plotting the average win rate for each rank for each division, we can determine whether the best team in each division is always ranked the highest. We can also use these plots to compare the National and American leagues."
   ]
  },
  {
   "cell_type": "code",
   "execution_count": null,
   "metadata": {},
   "outputs": [],
   "source": [
    "# Code to split teams df into divisions and leagues\n",
    "teams = pd.read_csv('./data/core/Teams.csv')\n",
    "teams.dropna()\n",
    "teams['WR'] = teams.W / teams.G\n",
    "\n",
    "americanLeague = teams[teams.lgID == \"AL\"]\n",
    "nationalLeague = teams[teams.lgID == \"NL\"]\n",
    "\n",
    "# Eastern American League, Rank 1 -- Checking if data is more suitable for mean or median\n",
    "eaLeague = americanLeague[(americanLeague.Rank == 1)]\n",
    "sns.displot(data=eaLeague, x='WR',hue='divID')\n",
    "plt.title(\"Win Rates for American League Rank 1 Teams\")\n",
    "\n",
    "# For each league, compute the average win rate for each rank in each division\n",
    "aggregation = 'mean'\n",
    "# aggregation = 'median'\n",
    "for league in [americanLeague, nationalLeague]:\n",
    "    east = league[league.divID == 'E'].groupby('Rank').agg({'WR': aggregation,'divID': 'max'}).reset_index()\n",
    "    central = league[league.divID == 'C'].groupby('Rank').agg({'WR': aggregation, 'divID': 'max'}).reset_index()\n",
    "    west = league[league.divID == 'W'].groupby('Rank').agg({'WR': aggregation, 'divID': 'max'}).reset_index()\n",
    "    averages = pd.concat([east, central, west])\n",
    "    title  = \"American League\" if league is americanLeague else \"National League\"\n",
    "    p = sns.catplot(data=averages, x='Rank', y='WR', hue='divID', kind='bar', alpha=0.8)\n",
    "    plt.title(title + \" Average WR vs. Rank\")\n",
    "    p.set_axis_labels(\"Rank\", \"Average Win Rate\")\n",
    "    "
   ]
  },
  {
   "cell_type": "markdown",
   "metadata": {},
   "source": [
    "For all leagues in both divisions, a better ranking corresponds to a better win rate. However, the American league has a wider range of average win rates between each rank when compared to the National League. Specifically, Eastern teams have a much better average win rate than Western teams, who have better win rates than Central teams. This chasm between average win rates in the American league can be dramatic. For example, the average win rate of teams ranked 6th in the Eastern division is greater than the average win rate of teams ranked 4th in the Central division.  \n",
    "\n",
    "In contrast, the divisions in the National League have average win rates that are much closer together for each rank. While the Central divison still has the lowest average win rates, the difference is less dramatic. For this reason, we believe that the National League is a more competitive league than the American League. We also believe that in general, Eastern teams have the best chance of winning a game, followed by Western teams, with teams from the Central division having the lowest chance of winning their games.\n",
    "\n",
    "The same result is found when the median win rate is used instead of the average win rate."
   ]
  }
 ],
 "metadata": {
  "kernelspec": {
   "display_name": "Python 3",
   "language": "python",
   "name": "python3"
  },
  "language_info": {
   "codemirror_mode": {
    "name": "ipython",
    "version": 3
   },
   "file_extension": ".py",
   "mimetype": "text/x-python",
   "name": "python",
   "nbconvert_exporter": "python",
   "pygments_lexer": "ipython3",
   "version": "3.11.0"
  }
 },
 "nbformat": 4,
 "nbformat_minor": 2
}
