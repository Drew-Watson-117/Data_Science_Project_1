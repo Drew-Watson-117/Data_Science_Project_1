{
 "cells": [
  {
   "cell_type": "markdown",
   "metadata": {},
   "source": [
    "# What Factors Affect the Ability of a team to win across games"
   ]
  },
  {
   "cell_type": "code",
   "execution_count": null,
   "metadata": {},
   "outputs": [],
   "source": [
    "import pandas as pd\n",
    "from matplotlib import pyplot as plt\n",
    "# Make sure you have seaborn version 0.9.\n",
    "import seaborn as sns"
   ]
  },
  {
   "cell_type": "markdown",
   "metadata": {},
   "source": [
    "## Max - Average Number of Walks vs. Games Won"
   ]
  },
  {
   "cell_type": "code",
   "execution_count": null,
   "metadata": {},
   "outputs": [],
   "source": [
    "teams = pd.read_csv('./data/core/Teams.csv')\n",
    "teams.columns\n",
    "display(teams)\n",
    "walkteams = teams[['BB', 'G', 'W', 'yearID', 'teamID']] \n",
    "display(walkteams)\n",
    "walkteams = walkteams.dropna()\n",
    "display(walkteams[walkteams.isna().any(axis=1)])\n",
    "walkteams['balls/game'] = walkteams.BB/walkteams.G\n",
    "walkteams['winPercent'] = walkteams.W/walkteams.G"
   ]
  },
  {
   "cell_type": "markdown",
   "metadata": {},
   "source": [
    "## NUMBER OF SHUTOUTS FOR WORLD SERIES WINNERS BY YEAR VS AVERAGE SHUTOUT RATE"
   ]
  },
  {
   "cell_type": "code",
   "execution_count": null,
   "metadata": {},
   "outputs": [],
   "source": [
    "winners = teams[teams.WSWin == 'Y']\n",
    "display(winners)\n",
    "sns.lineplot(data=winners, x=\"yearID\", y=\"SHO\", label=\"World Series Winners\")\n",
    "\n",
    "shutoutsByYear = teams.groupby('yearID').agg({'SHO': 'mean'})\n",
    "sns.lineplot(data=shutoutsByYear, x=\"yearID\", y=\"SHO\", label=\"Average For All Teams\")\n",
    "plt.title('Shutouts For World Series Winners vs. League Average per Year')\n",
    "plt.xlabel('Year')\n",
    "plt.ylabel('Shutouts')\n",
    "plt.show()"
   ]
  },
  {
   "cell_type": "markdown",
   "metadata": {},
   "source": [
    "There appears to be no strong correlation between the number of shutouts that a team performs and their ability to win. This is likely because you can still win a game even if it isn't a shutout. However, it seems that it is rare for a teeam with few shutouts to win the world series. It also seems to me that the years between 1900 and 1920 generally had more shutouts if they won the world series. This would make it seem like the skill gap between the best and worst teams has been getting smaller, especially with how many more games teams play now than they used to."
   ]
  },
  {
   "cell_type": "code",
   "execution_count": null,
   "metadata": {},
   "outputs": [],
   "source": [
    "sns.scatterplot(x='balls/game', y='winPercent', data=walkteams, s=8)"
   ]
  },
  {
   "cell_type": "markdown",
   "metadata": {},
   "source": [
    "## Max - Percentage of Successful Base Steal vs Percentage of Game Wins"
   ]
  },
  {
   "cell_type": "code",
   "execution_count": null,
   "metadata": {},
   "outputs": [],
   "source": [
    "teams = pd.read_csv('./data/core/Teams.csv')\n",
    "teams.columns\n",
    "\n",
    "stealTeams = teams[['CS', 'SB', 'G', 'W', 'yearID', 'teamID']]\n",
    "stealTeams = stealTeams[stealTeams.yearID > 1960] \n",
    "stealTeams = stealTeams.dropna()\n",
    "stealTeams['stealAttempts'] = stealTeams.SB + stealTeams.CS\n",
    "stealTeams['successfulStealAttemptsPercent'] = stealTeams.SB/stealTeams.stealAttempts\n",
    "stealTeams['winPercent'] = stealTeams.W/stealTeams.G"
   ]
  },
  {
   "cell_type": "code",
   "execution_count": null,
   "metadata": {},
   "outputs": [],
   "source": [
    "sns.lmplot(x='successfulStealAttemptsPercent', y='winPercent', data=stealTeams.sample(frac=.3))\n",
    "plt.title('Percentage of Successfully Stolen Bases vs. Win Percentage')\n",
    "plt.xlabel('% Successful Steal Attempts')\n",
    "plt.ylabel('% Games Won')"
   ]
  }
 ],
 "metadata": {
  "kernelspec": {
   "display_name": "Python 3",
   "language": "python",
   "name": "python3"
  },
  "language_info": {
   "codemirror_mode": {
    "name": "ipython",
    "version": 3
   },
   "file_extension": ".py",
   "mimetype": "text/x-python",
   "name": "python",
   "nbconvert_exporter": "python",
   "pygments_lexer": "ipython3",
   "version": "3.11.6"
  }
 },
 "nbformat": 4,
 "nbformat_minor": 2
}
